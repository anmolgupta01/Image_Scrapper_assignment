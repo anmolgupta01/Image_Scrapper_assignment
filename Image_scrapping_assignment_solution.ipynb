{
 "cells": [
  {
   "cell_type": "markdown",
   "id": "59fdb101",
   "metadata": {},
   "source": [
    "# Q1. Write a python program to extract the video URL of the first five videos."
   ]
  },
  {
   "cell_type": "code",
   "execution_count": 1,
   "id": "bc8b680a",
   "metadata": {},
   "outputs": [],
   "source": [
    "import scrapetube\n",
    "from pytube import YouTube\n",
    "from pytube import Channel\n",
    "import pandas as pd\n",
    "import os\n",
    "import requests\n",
    "from bs4 import BeautifulSoup\n",
    "import datetime"
   ]
  },
  {
   "cell_type": "code",
   "execution_count": 2,
   "id": "ef49cb3a",
   "metadata": {},
   "outputs": [],
   "source": [
    "video_link='https://youtu.be/eazPrtheE14?si=o-SEdx-zwtzaI10M'\n",
    "x = YouTube(video_link)\n",
    "channelid = x.channel_id"
   ]
  },
  {
   "cell_type": "code",
   "execution_count": 3,
   "id": "dbaa131f",
   "metadata": {},
   "outputs": [],
   "source": [
    "url = \"https://www.youtube.com/watch?v=\""
   ]
  },
  {
   "cell_type": "code",
   "execution_count": 4,
   "id": "a20f61ba",
   "metadata": {},
   "outputs": [],
   "source": [
    "videos = scrapetube.get_channel(channelid)"
   ]
  },
  {
   "cell_type": "code",
   "execution_count": 5,
   "id": "25ccf0e9",
   "metadata": {},
   "outputs": [],
   "source": [
    "list =[]"
   ]
  },
  {
   "cell_type": "code",
   "execution_count": 6,
   "id": "3f14ca03",
   "metadata": {},
   "outputs": [],
   "source": [
    "for video in videos:\n",
    "    \n",
    "    url1=url+str(video['videoId'])\n",
    "    list.append(url1)"
   ]
  },
  {
   "cell_type": "code",
   "execution_count": 7,
   "id": "d39393e1",
   "metadata": {},
   "outputs": [
    {
     "data": {
      "text/plain": [
       "['https://www.youtube.com/watch?v=13Tk7TbQPRM',\n",
       " 'https://www.youtube.com/watch?v=UUXl4ZTbQ7g',\n",
       " 'https://www.youtube.com/watch?v=jKuW7h6VEho',\n",
       " 'https://www.youtube.com/watch?v=pLt9vmoBo2s',\n",
       " 'https://www.youtube.com/watch?v=L5m6h7QBg44']"
      ]
     },
     "execution_count": 7,
     "metadata": {},
     "output_type": "execute_result"
    }
   ],
   "source": [
    "url_list = list[0:5]\n",
    "url_list"
   ]
  },
  {
   "cell_type": "code",
   "execution_count": 8,
   "id": "64d9fd7c",
   "metadata": {},
   "outputs": [],
   "source": [
    "filename = \"Result.csv\"\n",
    "try:\n",
    "    fw = open(filename, \"w\")\n",
    "    for video_link in url_list:\n",
    "        fw.write(f\"video link : {video_link}\\n\")\n",
    "except Exception as e:\n",
    "    print(f\"An error occurred: {e}\")\n",
    "finally:\n",
    "    fw.close()\n"
   ]
  },
  {
   "cell_type": "markdown",
   "id": "c0eda1d6",
   "metadata": {},
   "source": [
    "# Q2. Write a python program to extract the URL of the video thumbnails of the first five videos"
   ]
  },
  {
   "cell_type": "code",
   "execution_count": 9,
   "id": "98c2cd38",
   "metadata": {},
   "outputs": [],
   "source": [
    "headers = {\"User-Agent\": \"Mozilla/5.0 (Windows NT 10.0; Win64; x64) AppleWebKit/537.36 (KHTML, like Gecko) Chrome/58.0.3029.110 Safari/537.36\"}"
   ]
  },
  {
   "cell_type": "code",
   "execution_count": 10,
   "id": "dab7cd1b",
   "metadata": {},
   "outputs": [
    {
     "name": "stdout",
     "output_type": "stream",
     "text": [
      "https://i.ytimg.com/vi/13Tk7TbQPRM/maxresdefault.jpg\n",
      "https://i.ytimg.com/vi/UUXl4ZTbQ7g/maxresdefault.jpg\n",
      "https://i.ytimg.com/vi/jKuW7h6VEho/maxresdefault.jpg\n",
      "https://i.ytimg.com/vi/pLt9vmoBo2s/maxresdefault.jpg\n",
      "https://i.ytimg.com/vi/L5m6h7QBg44/maxresdefault.jpg\n"
     ]
    }
   ],
   "source": [
    "for url in url_list:\n",
    "    urlclient = requests.get(url, headers = headers)\n",
    "    pw_page = urlclient.content\n",
    "    soup = BeautifulSoup(pw_page , 'html.parser')\n",
    "    thumbnail_url_list = soup.find('meta',property='og:image')['content']\n",
    "    print(thumbnail_url_list)\n",
    "    fw = open(filename, \"a\")\n",
    "    fw.write(f\"thumbnail_url: {thumbnail_url_list}\\n\")"
   ]
  },
  {
   "cell_type": "markdown",
   "id": "ba8d6b28",
   "metadata": {},
   "source": [
    "# Q3. Write a python program to extract the title of the first five videos"
   ]
  },
  {
   "cell_type": "code",
   "execution_count": 11,
   "id": "aeabc6ee",
   "metadata": {},
   "outputs": [
    {
     "name": "stdout",
     "output_type": "stream",
     "text": [
      "CONTROL AND COORDINATION in 60 minutes || Class 10th CBSE Boards\n",
      "GENDER, RELIGION AND CASTE in 50 minutes || Class 10th CBSE Borads\n",
      "MAGNETIC EFFECTS OF ELECTRIC CURRENT in 30 minutes || Class 10th CBSE Boards\n",
      "GLOBALISATION AND THE INDIAN ECONOMY in 45mins || Class 10th CBSE Boards\n",
      "ARITHMETIC PROGRESSIONS in 55 minutes || Class 10th CBSE Boards\n"
     ]
    }
   ],
   "source": [
    "for url in url_list:\n",
    "    #given_url = url\n",
    "    urlclient = requests.get(url, headers = headers)\n",
    "    pw_page = urlclient.content\n",
    "    soup = BeautifulSoup(pw_page , 'html.parser')\n",
    "    Title_list = soup.find('meta',property='og:title')['content']\n",
    "    print(Title_list)\n",
    "    fw = open(filename, \"a\")\n",
    "    fw.write(f\"Title: {Title_list}\\n\")"
   ]
  },
  {
   "cell_type": "markdown",
   "id": "b0896b3e",
   "metadata": {},
   "source": [
    "# Q4. Write a python program to extract the number of views of the first five videos"
   ]
  },
  {
   "cell_type": "code",
   "execution_count": 12,
   "id": "17e52b9c",
   "metadata": {},
   "outputs": [
    {
     "name": "stdout",
     "output_type": "stream",
     "text": [
      "2257\n",
      "6934\n",
      "9702\n",
      "7603\n",
      "7902\n"
     ]
    }
   ],
   "source": [
    "for url in url_list:\n",
    "    #given_url = url\n",
    "    urlclient = requests.get(url, headers = headers)\n",
    "    pw_page = urlclient.content\n",
    "    soup = BeautifulSoup(pw_page , 'html.parser')\n",
    "    views_list = soup.find('meta',itemprop=\"interactionCount\")['content']\n",
    "    print(views_list)\n",
    "    fw = open(filename, \"a\")\n",
    "    fw.write(f\"views: {views_list}\\n\")"
   ]
  },
  {
   "cell_type": "markdown",
   "id": "26076e71",
   "metadata": {},
   "source": [
    "# Q5. Write a python program to extract the time of posting of video for the first five videos."
   ]
  },
  {
   "cell_type": "code",
   "execution_count": 13,
   "id": "d75353a3",
   "metadata": {
    "scrolled": true
   },
   "outputs": [
    {
     "name": "stdout",
     "output_type": "stream",
     "text": [
      "2023-10-30T05:30:01-07:00\n",
      "2023-10-28T05:30:17-07:00\n",
      "2023-10-27T05:30:33-07:00\n",
      "2023-10-26T05:30:28-07:00\n",
      "2023-10-25T08:07:25-07:00\n"
     ]
    }
   ],
   "source": [
    "for url in url_list:\n",
    "    #given_url = url\n",
    "    urlclient = requests.get(url, headers = headers)\n",
    "    pw_page = urlclient.content\n",
    "    soup = BeautifulSoup(pw_page , 'html.parser')\n",
    "    time_list = soup.find('meta',itemprop=\"uploadDate\")['content']\n",
    "    print(time_list)\n",
    "    fw = open(filename, \"a\")\n",
    "    fw.write(f\"Time: {time_list}\\n\")"
   ]
  },
  {
   "cell_type": "markdown",
   "id": "366b32bc",
   "metadata": {},
   "source": [
    "# Create a simple UI with all functionalities mentioned above and deploy it "
   ]
  },
  {
   "cell_type": "markdown",
   "id": "04805799",
   "metadata": {},
   "source": [
    "# My deployment on Azure\n",
    "\n",
    "https://anmolscrapetube.azurewebsites.net/\n",
    "\n",
    "# Github repository for this project\n",
    "\n",
    "https://github.com/anmolgupta01/Youtube_scrapper"
   ]
  },
  {
   "cell_type": "code",
   "execution_count": null,
   "id": "c0fc4d38",
   "metadata": {},
   "outputs": [],
   "source": []
  },
  {
   "cell_type": "code",
   "execution_count": null,
   "id": "987065fd",
   "metadata": {},
   "outputs": [],
   "source": []
  }
 ],
 "metadata": {
  "kernelspec": {
   "display_name": "Python 3 (ipykernel)",
   "language": "python",
   "name": "python3"
  },
  "language_info": {
   "codemirror_mode": {
    "name": "ipython",
    "version": 3
   },
   "file_extension": ".py",
   "mimetype": "text/x-python",
   "name": "python",
   "nbconvert_exporter": "python",
   "pygments_lexer": "ipython3",
   "version": "3.11.4"
  }
 },
 "nbformat": 4,
 "nbformat_minor": 5
}
